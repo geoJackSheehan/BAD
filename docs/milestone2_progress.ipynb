{
 "cells": [
  {
   "cell_type": "markdown",
   "id": "1db039f6",
   "metadata": {},
   "source": [
    "## Milestone 2B Progress Report\n",
    "\n",
    "__Hope__:\n",
    "\n",
    "Overloaded common elementary functions and constants from numpy for user ease in elementary_functions.py. Added the start of test suite code in a ``__main__`` at the bottom.\n",
    "- (3) Constants (and symbols): e, pi, infinity\n",
    "- (19) Functions: exp, ln, special log base, all 6 trig functions, basic inverse trig functions, basic hyperbolic trig functions, basic inverse hyperbolic trig functions, and square-root\n",
    "- All functions handle all dual number computations aside from the dunders \n",
    "- All functions raise extensive errors for any and all domain issues (functionally defined or created from dual part computations)\n",
    "- In progress of adding a validation “private” function to case to cast all integers to floats (less test cases and better accuracy), changing lists to numpy arrays, and validating input type for scalar and vector (internal) types \n",
    "\n",
    "__Jack__:\n",
    "- made the changes in sample code (except Jacobian) in milestone1 document based on feedback\n",
    "- Added bad_forward_mode.py module with overloaded built-in functions for DualNumber Class\n",
    "- added: add, radd, sub, rsub, mul, rmul, truediv, rtruediv, and neg\n",
    "- added small test code that needs to be built-up before being added to test suite\n",
    "- added explanation of what DualNumber class is for and how it fits into \n",
    "\n",
    "__Danhee & Annabel__:\n",
    "\n",
    "Test suite:\n",
    "- Annabel- started the CI testing yml file. Need to make some edits…\n",
    "- Completed implementing tests for Dual class\n",
    "- Annabel - Init, Add, Radd, Sub, Rsub, Mul, Rmul\n",
    "- Danhee - truediv, rtruediv, neg, pow, rpow\n",
    "- Started elementary_functions.py exp tests\n",
    "  - A lot left here!\n",
    "\n",
    "__TODO__:\n",
    "- Documentation for dual class test suite (Danhee and Annabel)\n",
    "- Test suite for elementary_functions.py (Danhee and Annabel)\n",
    "- Documentation for bad_forward_mode.py and elementary_functions.py (Danhee, Jack and Hope)\n",
    "- Fix elementary_functions.py (Hope)\n",
    "- Code coverage yml file (Annabel)\n",
    "- Forward mode interface (All of us)\n",
    "- add pow and rpow dunder methods to DualNumber Class (Jack)\n",
    "- cast integers for real component of DualNumber (Jack)"
   ]
  },
  {
   "cell_type": "code",
   "execution_count": null,
   "id": "a6a32bea",
   "metadata": {},
   "outputs": [],
   "source": []
  }
 ],
 "metadata": {
  "kernelspec": {
   "display_name": "Python 3 (ipykernel)",
   "language": "python",
   "name": "python3"
  },
  "language_info": {
   "codemirror_mode": {
    "name": "ipython",
    "version": 3
   },
   "file_extension": ".py",
   "mimetype": "text/x-python",
   "name": "python",
   "nbconvert_exporter": "python",
   "pygments_lexer": "ipython3",
   "version": "3.9.7"
  }
 },
 "nbformat": 4,
 "nbformat_minor": 5
}
